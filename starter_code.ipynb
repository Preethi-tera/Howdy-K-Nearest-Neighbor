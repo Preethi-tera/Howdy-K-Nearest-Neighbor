{
 "cells": [
  {
   "cell_type": "code",
   "execution_count": null,
   "metadata": {
    "executionInfo": {
     "elapsed": 538,
     "status": "ok",
     "timestamp": 1645040435062,
     "user": {
      "displayName": "John Edwards",
      "photoUrl": "https://lh3.googleusercontent.com/a-/AOh14GjNdoYCBUMD6WY4cP9VEjQJl3NdSIBREBAeQ1vz=s64",
      "userId": "04096460213798108420"
     },
     "user_tz": 420
    },
    "id": "ohFyoP5Z-8QS"
   },
   "outputs": [],
   "source": [
    "\n",
    "import pandas as pd\n",
    "import numpy as np\n",
    "from sklearn.neighbors import NearestNeighbors\n",
    "import random\n",
    "\n",
    "import matplotlib.pyplot as plt"
   ]
  },
  {
   "cell_type": "markdown",
   "metadata": {
    "id": "DyUhAK91-8QT"
   },
   "source": [
    "# k-nearest neighbors\n",
    "\n",
    "This dataset was obtained from https://archive.ics.uci.edu/ml/datasets/Heart+Disease (this is a great resource for datasets to try machine learning on). It has data on patients that are and are not diagnosed with heart disease.\n",
    "\n",
    "The attributes are:\n",
    "* age: age in years \n",
    "* sex: sex (1 = male; 0 = female) \n",
    "* cp: chest pain type \n",
    " * -- Value 1: typical angina \n",
    " * -- Value 2: atypical angina \n",
    " * -- Value 3: non-anginal pain \n",
    " * -- Value 4: asymptomatic \n",
    "* trestbps: resting blood pressure (in mm Hg on admission to the hospital) \n",
    "* chol: serum cholestoral in mg/dl \n",
    "* fbs: (fasting blood sugar > 120 mg/dl) (1 = true; 0 = false) \n",
    "* restecg: resting electrocardiographic results \n",
    " * -- Value 0: normal \n",
    " * -- Value 1: having ST-T wave abnormality (T wave inversions and/or ST elevation or depression of > 0.05 mV) \n",
    " * -- Value 2: showing probable or definite left ventricular hypertrophy by Estes' criteria \n",
    "* thalach: maximum heart rate achieved \n",
    "* exang: exercise induced angina (1 = yes; 0 = no) \n",
    "* oldpeak = ST depression induced by exercise relative to rest \n",
    "* slope: the slope of the peak exercise ST segment \n",
    " * -- Value 1: upsloping \n",
    " * -- Value 2: flat \n",
    " * -- Value 3: downsloping \n",
    "* ca: number of major vessels (0-3) colored by flourosopy \n",
    "* thal: 3 = normal; 6 = fixed defect; 7 = reversable defect \n",
    "* num: diagnosis of heart disease (angiographic disease status) \n",
    " * -- Value 0: absence.\n",
    " * -- Value 1,2,3,4: presence of heart disease\n"
   ]
  },
  {
   "cell_type": "markdown",
   "metadata": {
    "id": "BxJjRNB5-8QW"
   },
   "source": [
    "# Explore the data\n",
    "\n",
    "Read in the data, modify the dependent variable name and plot a histogram of the ages of patients, both healthy and those with heart disease."
   ]
  },
  {
   "cell_type": "code",
   "execution_count": null,
   "metadata": {
    "colab": {
     "base_uri": "https://localhost:8080/",
     "height": 484
    },
    "executionInfo": {
     "elapsed": 947,
     "status": "ok",
     "timestamp": 1645040463101,
     "user": {
      "displayName": "John Edwards",
      "photoUrl": "https://lh3.googleusercontent.com/a-/AOh14GjNdoYCBUMD6WY4cP9VEjQJl3NdSIBREBAeQ1vz=s64",
      "userId": "04096460213798108420"
     },
     "user_tz": 420
    },
    "id": "JPSDi8S6-8QY",
    "outputId": "c1bb1a86-0132-4e16-c0b3-ebe3fa6fd2c0"
   },
   "outputs": [],
   "source": [
    "# Comma-separated values\n",
    "df = pd.read_csv('cleveland.csv')\n",
    "\n",
    "# Rename 'num' column to 'disease' and change 1,2,3,4 to 1\n",
    "df = df.rename({'num':'disease'}, axis=1)\n",
    "df['disease'] = df.disease.apply(lambda x: min(x, 1))\n",
    "display(df.head(5))\n",
    "\n",
    "# Plot histograms\n",
    "fig, (ax1, ax2) = plt.subplots(2, 1)\n",
    "# make a little extra space between the subplots\n",
    "fig.subplots_adjust(hspace=0.5)\n",
    "\n",
    "ax1.hist(df[df.disease == 0].age);\n",
    "# ax1.set_xlabel('age');\n",
    "ax1.set_ylabel('number of patients');\n",
    "ax1.set_xlim(20, 80);\n",
    "ax1.set_ylim(0, 50);\n",
    "ax1.set_title('healthy');\n",
    "\n",
    "ax2.hist(df[df.disease == 1].age, color='orange');\n",
    "ax2.set_xlabel('age');\n",
    "ax2.set_ylabel('number of patients');\n",
    "ax2.set_xlim(20, 80);\n",
    "ax2.set_ylim(0, 50);\n",
    "ax2.set_title('has heart disease');\n"
   ]
  },
  {
   "cell_type": "markdown",
   "metadata": {
    "id": "9XiKkhLX-8Qa"
   },
   "source": [
    "# k-nearest neighbors - first try\n",
    "\n",
    "Try it first on age, using the scikit-learn package. This code simply looks for the five patients with ages closest to a given age, then prints how many of those patients are healthy and how many have heart disease."
   ]
  },
  {
   "cell_type": "code",
   "execution_count": null,
   "metadata": {
    "colab": {
     "base_uri": "https://localhost:8080/",
     "height": 259
    },
    "executionInfo": {
     "elapsed": 306,
     "status": "ok",
     "timestamp": 1645022608721,
     "user": {
      "displayName": "John Edwards",
      "photoUrl": "https://lh3.googleusercontent.com/a-/AOh14GjNdoYCBUMD6WY4cP9VEjQJl3NdSIBREBAeQ1vz=s64",
      "userId": "04096460213798108420"
     },
     "user_tz": 420
    },
    "id": "LH6JgWzC-8Qb",
    "outputId": "5e989bf3-ced6-473c-ea9d-e54dfb89bfab"
   },
   "outputs": [],
   "source": [
    "# Use knn on age. First create a nearest neighbors object.\n",
    "nn = NearestNeighbors(n_neighbors=5, metric='euclidean', algorithm='auto')\n",
    "\n",
    "# Create a two-dimensional array. This is basically a one-dimensional array with\n",
    "# single-element arrays of patient ages in the second dimension. We're going to\n",
    "# search for neighbors using only the age dimension.\n",
    "X = [[x] for x in df.age]\n",
    "\n",
    "# This builds an index data structure under the hood for query performance\n",
    "fit = nn.fit(X)\n",
    "\n",
    "# Find the k nearest neighbors to age 65 and the knn to age 40\n",
    "distances, indices = fit.kneighbors([[65], [40]])\n",
    "display(indices)\n",
    "\n",
    "# Get the patients that are near age 65\n",
    "nbrs = df.iloc[indices[0]]\n",
    "display(nbrs)\n",
    "\n",
    "# # Print how many patients are sick and how many are healthy\n",
    "# healthy = nbrs[nbrs.disease == 0].count().disease\n",
    "healthy = nbrs.query('disease == 0').count().disease\n",
    "sick = nbrs.query('disease == 1').count().disease\n",
    "print('healthy: {}\\nsick: {}'.format(healthy, sick))\n"
   ]
  },
  {
   "cell_type": "markdown",
   "metadata": {
    "id": "32t1fq3V-8Qc"
   },
   "source": [
    "# multiple dimensions\n",
    "\n",
    "Now run knn on a patient from the database using an additional dimension, or attribute: trestbps (resting blood pressure).\n",
    "\n",
    "**Warning** The raw data used is not standardized, so differences in the magnitude of change between the different attributes could cause one attribute to unduly influence another. Use standardized data for knn."
   ]
  },
  {
   "cell_type": "code",
   "execution_count": null,
   "metadata": {
    "colab": {
     "base_uri": "https://localhost:8080/"
    },
    "collapsed": true,
    "executionInfo": {
     "elapsed": 363,
     "status": "ok",
     "timestamp": 1645022670938,
     "user": {
      "displayName": "John Edwards",
      "photoUrl": "https://lh3.googleusercontent.com/a-/AOh14GjNdoYCBUMD6WY4cP9VEjQJl3NdSIBREBAeQ1vz=s64",
      "userId": "04096460213798108420"
     },
     "user_tz": 420
    },
    "id": "ZCnXYiWW-8Qd",
    "outputId": "d0bc35a9-aa75-417f-80d6-692c08a91312"
   },
   "outputs": [],
   "source": [
    "df[['age', 'trestbps']].values"
   ]
  },
  {
   "cell_type": "code",
   "execution_count": null,
   "metadata": {
    "executionInfo": {
     "elapsed": 157,
     "status": "ok",
     "timestamp": 1645040490498,
     "user": {
      "displayName": "John Edwards",
      "photoUrl": "https://lh3.googleusercontent.com/a-/AOh14GjNdoYCBUMD6WY4cP9VEjQJl3NdSIBREBAeQ1vz=s64",
      "userId": "04096460213798108420"
     },
     "user_tz": 420
    },
    "id": "2ZZ-zYGg_jxe"
   },
   "outputs": [],
   "source": [
    "# Standardize the data\n",
    "df['age_s'] = (df.age-df.age.mean())/df.age.std()\n",
    "df['trestbps_s'] = (df.trestbps-df.trestbps.mean())/df.trestbps.std()\n"
   ]
  },
  {
   "cell_type": "code",
   "execution_count": null,
   "metadata": {
    "colab": {
     "base_uri": "https://localhost:8080/",
     "height": 323
    },
    "executionInfo": {
     "elapsed": 364,
     "status": "ok",
     "timestamp": 1645023811059,
     "user": {
      "displayName": "John Edwards",
      "photoUrl": "https://lh3.googleusercontent.com/a-/AOh14GjNdoYCBUMD6WY4cP9VEjQJl3NdSIBREBAeQ1vz=s64",
      "userId": "04096460213798108420"
     },
     "user_tz": 420
    },
    "id": "qBQgLgmu-8Qd",
    "outputId": "241c31a1-f21e-4fbf-8f60-820bc27130da"
   },
   "outputs": [],
   "source": [
    "# Use knn on age. First create a nearest neighbors object.\n",
    "nn = NearestNeighbors(n_neighbors=5, metric='euclidean', algorithm='auto')\n",
    "\n",
    "# This builds an index data structure under the hood for query performance\n",
    "X = df[['age_s', 'trestbps_s']].values\n",
    "fit = nn.fit(X)\n",
    "\n",
    "# Get a random patient to test on\n",
    "patient = df.sample(1)\n",
    "patientX = patient[['age_s','trestbps_s']].values[0]\n",
    "patienty = patient[['disease']].values[0]\n",
    "display(patient)\n",
    "\n",
    "# Find the k nearest neighbors to the patient. Problem: the patient\n",
    "# itself will be found in the list of neighbors!\n",
    "distances, indices = fit.kneighbors([patientX])\n",
    "nbrs = df.iloc[indices[0]]\n",
    "display(nbrs)\n",
    "\n",
    "healthy = nbrs[nbrs.disease == 0].count().disease\n",
    "sick = nbrs[nbrs.disease == 1].count().disease\n",
    "print(f'healthy: {healthy}\\nsick: {sick}')\n",
    "predict = 0 if (healthy > sick) else 1\n",
    "actual = 0 if (patienty == 0) else 1\n",
    "success = predict == actual\n",
    "print(success)"
   ]
  },
  {
   "cell_type": "markdown",
   "metadata": {
    "id": "xi4vw4U2-8Qe"
   },
   "source": [
    "# multiple tests"
   ]
  },
  {
   "cell_type": "code",
   "execution_count": null,
   "metadata": {
    "colab": {
     "base_uri": "https://localhost:8080/",
     "height": 1000
    },
    "executionInfo": {
     "elapsed": 777,
     "status": "ok",
     "timestamp": 1645025693013,
     "user": {
      "displayName": "John Edwards",
      "photoUrl": "https://lh3.googleusercontent.com/a-/AOh14GjNdoYCBUMD6WY4cP9VEjQJl3NdSIBREBAeQ1vz=s64",
      "userId": "04096460213798108420"
     },
     "user_tz": 420
    },
    "id": "HlY6dakc-8Qe",
    "outputId": "4b9c1a33-cde0-412d-b8c3-5d5951f11ae7"
   },
   "outputs": [],
   "source": [
    "from sklearn.metrics import precision_recall_fscore_support\n",
    "\n",
    "# Use knn on age. First create a nearest neighbors object.\n",
    "nn = NearestNeighbors(n_neighbors=6, metric='euclidean', algorithm='auto')\n",
    "\n",
    "# This builds an index data structure under the hood for query performance\n",
    "X = df[['age_s', 'trestbps_s']].values\n",
    "fit = nn.fit(X)\n",
    "\n",
    "# Get random patients to test on\n",
    "n = 50\n",
    "patients = df.sample(n)\n",
    "patientsX = patients[['age_s','trestbps_s']].values\n",
    "patientsy = patients[['disease']].values\n",
    "\n",
    "# Find the k nearest neighbors to the patient.\n",
    "distances, indices = fit.kneighbors(patientsX)\n",
    "# print('indices of k-nearest neighbors for each patient:')\n",
    "# display(indices)\n",
    "\n",
    "y_pred = []\n",
    "for i in range(n):\n",
    "    # print('nearest neighbors to patient: {}:'.format(patientsX[i]))\n",
    "    nbrs = df.iloc[indices[i]]\n",
    "    # Drop the patient of interest\n",
    "    nbrs = nbrs.drop(patients.index[i])\n",
    "    # display(nbrs)\n",
    "\n",
    "    healthy = nbrs[nbrs.disease == 0].count().disease\n",
    "    sick = nbrs[nbrs.disease == 1].count().disease\n",
    "    predict = 0 if (healthy > sick) else 1\n",
    "    print(f'healthy: {healthy}, sick: {sick}, predicted: {predict}, actual: {patientsy[i][0]}')\n",
    "    y_pred.append(predict)\n",
    "\n",
    "# This is where we would compile how many patients are predicted\n",
    "# correctly. Remember:\n",
    "#    precision = tp/(tp+fp)  (\"sloppiness\")\n",
    "#    recall    = tp/(tp+fn)  (\"What percentage did we find?\")\n",
    "#    f-score - a balance between precision and recall\n",
    "#    support - number of positive labels\n",
    "print(y_pred, patientsy)\n",
    "(p,r,f,s) = precision_recall_fscore_support(patientsy, y_pred, labels=[0,1])\n",
    "print(f'precision={p}, recall={r}, f-score={f}, support={s}')"
   ]
  },
  {
   "cell_type": "markdown",
   "metadata": {
    "id": "HbFUBKlYCP_7"
   },
   "source": [
    "## Finding a good value of k"
   ]
  },
  {
   "cell_type": "code",
   "execution_count": null,
   "metadata": {
    "colab": {
     "base_uri": "https://localhost:8080/",
     "height": 283
    },
    "executionInfo": {
     "elapsed": 7169,
     "status": "ok",
     "timestamp": 1645041323497,
     "user": {
      "displayName": "John Edwards",
      "photoUrl": "https://lh3.googleusercontent.com/a-/AOh14GjNdoYCBUMD6WY4cP9VEjQJl3NdSIBREBAeQ1vz=s64",
      "userId": "04096460213798108420"
     },
     "user_tz": 420
    },
    "id": "T4WSF1daCVSe",
    "outputId": "d70f1e68-f94f-4d2e-f88c-a77bf6be2084"
   },
   "outputs": [],
   "source": [
    "from sklearn.metrics import precision_recall_fscore_support\n",
    "\n",
    "def get_scores(k):\n",
    "  # Use knn on age. First create a nearest neighbors object.\n",
    "  nn = NearestNeighbors(n_neighbors=k, metric='euclidean', algorithm='auto')\n",
    "\n",
    "  # This builds an index data structure under the hood for query performance\n",
    "  X = df[['age_s', 'trestbps_s']].values\n",
    "  fit = nn.fit(X)\n",
    "\n",
    "  # Get random patients to test on\n",
    "  n = 50\n",
    "  patients = df.sample(n)\n",
    "  patientsX = patients[['age_s','trestbps_s']].values\n",
    "  patientsy = patients[['disease']].values\n",
    "  # display(patients)\n",
    "\n",
    "  # Find the k nearest neighbors to the patient.\n",
    "  distances, indices = fit.kneighbors(patientsX)\n",
    "  # print('indices of k-nearest neighbors for each patient:')\n",
    "  # display(indices)\n",
    "\n",
    "  y_pred = []\n",
    "  for i in range(n):\n",
    "      # print('nearest neighbors to patient: {}:'.format(patientsX[i]))\n",
    "      nbrs = df.iloc[indices[i]]\n",
    "      # Drop the patient of interest\n",
    "      nbrs = nbrs.drop(patients.index[i], errors='ignore')\n",
    "      # display(nbrs)\n",
    "\n",
    "      healthy = nbrs[nbrs.disease == 0].count().disease\n",
    "      sick = nbrs[nbrs.disease == 1].count().disease\n",
    "      predict = 0 if (healthy > sick) else 1\n",
    "      # print(f'healthy: {healthy}, sick: {sick}, predicted: {predict}, actual: {patientsy[i][0]}')\n",
    "      y_pred.append(predict)\n",
    "\n",
    "  # This is where we would compile how many patients are predicted\n",
    "  # correctly. Remember:\n",
    "  #    precision = tp/(tp+fp)  (\"sloppiness\")\n",
    "  #    recall    = tp/(tp+fn)  (\"What percentage did we find?\")\n",
    "  #    f-score - a balance between precision and recall\n",
    "  #    support - number of positive labels\n",
    "  return precision_recall_fscore_support(patientsy, y_pred, labels=[1])\n",
    "\n",
    "kvals = range(2, 60)\n",
    "scores = [get_scores(k) for k in kvals]\n",
    "# print(scores)\n",
    "\n",
    "scores = [(p[0], r[0], f[0], s[0]) for (p,r,f,s) in scores]\n",
    "scores = list(zip(*scores))\n",
    "\n",
    "plt.plot(kvals, scores[2])\n"
   ]
  },
  {
   "cell_type": "markdown",
   "metadata": {
    "id": "JxXTniMH-8Qf"
   },
   "source": [
    "# Split data into train/test and get precision/recall/f score"
   ]
  },
  {
   "cell_type": "code",
   "execution_count": null,
   "metadata": {
    "id": "xWgdGaay-8Qf"
   },
   "outputs": [],
   "source": [
    "from sklearn.model_selection import train_test_split\n",
    "from sklearn.metrics import precision_recall_fscore_support\n",
    "\n",
    "k = 20\n",
    "nn = NearestNeighbors(n_neighbors=k, metric='euclidean', algorithm='auto')\n",
    "\n",
    "X = df[['age', 'trestbps', 'chol', 'thalach']].values\n",
    "y = df[['disease']].values\n",
    "\n",
    "# Use random_state if you want the same values each time you run for debugging,\n",
    "# but you should select the split randomly when you're ready to actually train\n",
    "# and test on the data.\n",
    "X_train, X_test, y_train, y_test = train_test_split(X, y, test_size=0.25)#, random_state=42)\n",
    "\n",
    "# Build the model with the training data and test with the test data\n",
    "\n",
    "# You may also want to use this function to compute the f score. The labels parameter indicates\n",
    "# that label 1 is \"positive\" in the sense of \"true positive\", \"false positive\" etc."
   ]
  },
  {
   "cell_type": "markdown",
   "metadata": {
    "id": "3ygZqMWD-8Qg"
   },
   "source": [
    "# Curse of dimensionality\n",
    "\"In low-dimensional datasets, the closest points tend to be much closer than average. But two points are close only if they're close in every dimension, and every extra dimension -- even if just noise -- is another opportunity for each point to be further away from every other point. When you have a lot of dimensions it's likely that the closest points aren't much closer than average, which means that two points being close doesn't mean very much (unless there is a *lot* of structure in your data).\" -Joel Grus\n",
    "\n",
    "The chart that this code displays shows that distance has less meaning as dimensions grows. In higher dimensions, most points are about the same distance from each other."
   ]
  },
  {
   "cell_type": "code",
   "execution_count": null,
   "metadata": {
    "id": "2hmoH9u9-8Qg",
    "outputId": "3b22ffff-c948-49c8-d933-d9f3f0d6c963"
   },
   "outputs": [],
   "source": [
    "import random\n",
    "import math\n",
    "\n",
    "def random_point(dim):\n",
    "    return [random.random() for _ in range(dim)]\n",
    "\n",
    "def sq(x):\n",
    "    return x*x\n",
    "\n",
    "def distance(a, b):\n",
    "    a = [sq(a[i]) + sq(b[i]) for i in range(len(a))]\n",
    "    return math.sqrt(sum(a))\n",
    "\n",
    "def random_distances(dim, num_pairs):\n",
    "    return [distance(random_point(dim), random_point(dim)) for _ in range(num_pairs)]\n",
    "\n",
    "print(random_point(3))\n",
    "print(random_distances(3, 10))\n",
    "\n",
    "num_pairs = 100\n",
    "means = []\n",
    "mins = []\n",
    "for dim in range(1, 100):\n",
    "    d = random_distances(dim, num_pairs)\n",
    "    means.append(sum(d)/len(d))\n",
    "    mins.append(min(d))\n",
    "\n",
    "# Note that the ratio of average distance to min distance\n",
    "# approaches one, so there's less space between the two.\n",
    "plt.plot(range(1, 100), means, label='average distance')\n",
    "plt.plot(range(1, 100), mins, label='min distance')\n",
    "plt.xlabel('num dimensions')\n",
    "plt.ylabel('distance')\n",
    "plt.title('Distances of 100 randomly selected points')\n",
    "plt.legend()"
   ]
  }
 ],
 "metadata": {
  "colab": {
   "name": "knn-template.ipynb",
   "provenance": []
  },
  "kernelspec": {
   "display_name": ".venv",
   "language": "python",
   "name": "python3"
  },
  "language_info": {
   "codemirror_mode": {
    "name": "ipython",
    "version": 3
   },
   "file_extension": ".py",
   "mimetype": "text/x-python",
   "name": "python",
   "nbconvert_exporter": "python",
   "pygments_lexer": "ipython3",
   "version": "3.11.1"
  },
  "vscode": {
   "interpreter": {
    "hash": "4f6950ad57402533c831805d8183a9baabb512566369b76164ac346d3d2195a9"
   }
  }
 },
 "nbformat": 4,
 "nbformat_minor": 1
}
